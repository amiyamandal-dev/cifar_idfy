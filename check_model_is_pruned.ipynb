{
 "cells": [
  {
   "cell_type": "code",
   "execution_count": 1,
   "id": "e588cafa-5ef7-4fdd-a4c9-68b3de7335dc",
   "metadata": {},
   "outputs": [],
   "source": [
    "import os\n",
    "import torch\n",
    "from torch import nn\n",
    "import torch.nn.functional as F\n",
    "from torchvision import transforms\n",
    "from torchvision.datasets import CIFAR10\n",
    "from torch.utils.data import DataLoader, random_split\n",
    "import pytorch_lightning as pl\n",
    "from torchvision.models import vgg11_bn, VGG11_BN_Weights\n",
    "from torchmetrics import Accuracy\n",
    "import numpy as np\n",
    "import pandas as pd\n",
    "import matplotlib.pyplot as plt\n",
    "import torchvision\n",
    "from pytorch_lightning.loggers import TensorBoardLogger\n",
    "from torch.optim.lr_scheduler import StepLR\n",
    "\n",
    "torch.set_float32_matmul_precision(\"medium\")\n"
   ]
  },
  {
   "cell_type": "code",
   "execution_count": 2,
   "id": "1d21ca20-f148-4af8-9458-0eeb613398ff",
   "metadata": {},
   "outputs": [],
   "source": [
    "transform = transforms.Compose([\n",
    "    transforms.RandomCrop(32, padding=4),\n",
    "    transforms.RandomHorizontalFlip(),\n",
    "    transforms.ToTensor(),\n",
    "    transforms.Normalize((0.4915, 0.4823, 0.4468),\n",
    "                         (0.2470, 0.2435, 0.2616))\n",
    "])"
   ]
  },
  {
   "cell_type": "code",
   "execution_count": 3,
   "id": "9fa3df55-7ca4-483b-849b-a3a17002f7d8",
   "metadata": {},
   "outputs": [
    {
     "name": "stdout",
     "output_type": "stream",
     "text": [
      "Files already downloaded and verified\n"
     ]
    }
   ],
   "source": [
    "batch_size=128\n",
    "test_dataset = torchvision.datasets.CIFAR10(root='./data', train=False, download=True, transform=transform)\n",
    "test_loader = DataLoader(test_dataset, batch_size=batch_size, shuffle=False, num_workers=8)"
   ]
  },
  {
   "cell_type": "code",
   "execution_count": 4,
   "id": "dff1d8c0-a324-4d91-8e89-23318ce93e2b",
   "metadata": {},
   "outputs": [],
   "source": [
    "class RCNN(nn.Module):\n",
    "    def __init__(self, num_classes=10):\n",
    "        super(RCNN, self).__init__()\n",
    "        # Load the pre-trained ResNet-50 model\n",
    "        self.m = vgg11_bn(weights=VGG11_BN_Weights.DEFAULT)\n",
    "        # Remove the last layer\n",
    "        del self.m.classifier[-1]\n",
    "        # Add a custom fully connected layer\n",
    "        fc_layer_1 = nn.Linear(4096, 1000)\n",
    "        classifier = nn.Linear(1000, num_classes)\n",
    "        relu_activation = nn.ReLU(inplace=True)\n",
    "        self.m.classifier.add_module(\"fc_1_rcnn_added\", fc_layer_1)\n",
    "        self.m.classifier.add_module(\"relu_added\", relu_activation)\n",
    "        self.m.classifier.add_module(\"classifier_rcnn_added\", classifier)\n",
    "    def forward(self, x):\n",
    "        x = self.m(x)\n",
    "        x = torch.nn.functional.log_softmax(x, dim = 1)\n",
    "        return x"
   ]
  },
  {
   "cell_type": "code",
   "execution_count": 5,
   "id": "5498b6ce-a44f-4370-8735-06e436e9ae48",
   "metadata": {},
   "outputs": [],
   "source": [
    "class LightningRCNN(pl.LightningModule):\n",
    "    def __init__(self, num_classes:int) -> None:\n",
    "        super().__init__()\n",
    "        self.model = RCNN(num_classes=num_classes)\n",
    "        self.loss_module = nn.CrossEntropyLoss()\n",
    "        self.save_hyperparameters()\n",
    "        self.accuracy = Accuracy(task=\"multiclass\", num_classes=num_classes)\n",
    "        \n",
    "        \n",
    "    def forward(self, x):\n",
    "        y = self.model(x)\n",
    "        return y\n",
    "    \n",
    "    def training_step(self, batch, batch_idx):\n",
    "       imgs, labels = batch\n",
    "       preds = self.model(imgs)\n",
    "       loss = self.loss_module(preds, labels)\n",
    "       acc = self.accuracy(preds, labels)\n",
    "       self.log_dict({'train_loss': loss, 'train_accuracy': acc}, on_step=False, on_epoch=True, prog_bar=True, logger=True)\n",
    "       return loss\n",
    "    \n",
    "    def backward(self, loss):\n",
    "        loss.backward()\n",
    "    \n",
    "    def validation_step(self, batch, batch_idx):\n",
    "        imgs, labels = batch\n",
    "        preds = self.model(imgs)\n",
    "\n",
    "        loss = self.loss_module(preds, labels)\n",
    "        acc = self.accuracy(preds, labels)\n",
    "        self.log_dict({'validation_loss': loss, 'validation_accuracy': acc}, on_step=True, on_epoch=True, prog_bar=False, logger=True)\n",
    "        return {'validation_loss': loss, 'validation_accuracy': acc}\n",
    "\n",
    "    def test_step(self, batch, batch_idx):\n",
    "        imgs, labels = batch\n",
    "        preds = self.model(imgs)\n",
    "        acc = self.accuracy(preds, labels)\n",
    "        loss = self.loss_module(preds, labels)\n",
    "        self.log_dict({'test_loss': loss, 'test_accuracy': acc}, on_step=True, on_epoch=True, prog_bar=False, logger=True)\n",
    "        return {'test_loss': loss, 'test_accuracy': acc}\n",
    "    \n",
    "    def configure_optimizers(self):\n",
    "        optimizer = torch.optim.Adam(self.parameters(), lr=1e-3)\n",
    "        lr_scheduler = StepLR(optimizer, step_size=100, gamma=0.1)  # Define your scheduler\n",
    "        return [optimizer], [lr_scheduler]"
   ]
  },
  {
   "cell_type": "markdown",
   "id": "8173c433-30ce-4794-81da-cf1a667b480f",
   "metadata": {},
   "source": [
    "# load finetuned model"
   ]
  },
  {
   "cell_type": "code",
   "execution_count": 12,
   "id": "e8f08c67-8f37-4dfb-bd3d-e3c8bd22051d",
   "metadata": {},
   "outputs": [],
   "source": [
    "model = LightningRCNN.load_from_checkpoint(\"model_v1_vgg/epoch=8-step=2817.ckpt\")"
   ]
  },
  {
   "cell_type": "code",
   "execution_count": 13,
   "id": "b0df7299-3597-44ff-867f-b78f81d26001",
   "metadata": {},
   "outputs": [
    {
     "data": {
      "text/plain": [
       "LightningRCNN(\n",
       "  (model): RCNN(\n",
       "    (m): VGG(\n",
       "      (features): Sequential(\n",
       "        (0): Conv2d(3, 64, kernel_size=(3, 3), stride=(1, 1), padding=(1, 1))\n",
       "        (1): BatchNorm2d(64, eps=1e-05, momentum=0.1, affine=True, track_running_stats=True)\n",
       "        (2): ReLU(inplace=True)\n",
       "        (3): MaxPool2d(kernel_size=2, stride=2, padding=0, dilation=1, ceil_mode=False)\n",
       "        (4): Conv2d(64, 128, kernel_size=(3, 3), stride=(1, 1), padding=(1, 1))\n",
       "        (5): BatchNorm2d(128, eps=1e-05, momentum=0.1, affine=True, track_running_stats=True)\n",
       "        (6): ReLU(inplace=True)\n",
       "        (7): MaxPool2d(kernel_size=2, stride=2, padding=0, dilation=1, ceil_mode=False)\n",
       "        (8): Conv2d(128, 256, kernel_size=(3, 3), stride=(1, 1), padding=(1, 1))\n",
       "        (9): BatchNorm2d(256, eps=1e-05, momentum=0.1, affine=True, track_running_stats=True)\n",
       "        (10): ReLU(inplace=True)\n",
       "        (11): Conv2d(256, 256, kernel_size=(3, 3), stride=(1, 1), padding=(1, 1))\n",
       "        (12): BatchNorm2d(256, eps=1e-05, momentum=0.1, affine=True, track_running_stats=True)\n",
       "        (13): ReLU(inplace=True)\n",
       "        (14): MaxPool2d(kernel_size=2, stride=2, padding=0, dilation=1, ceil_mode=False)\n",
       "        (15): Conv2d(256, 512, kernel_size=(3, 3), stride=(1, 1), padding=(1, 1))\n",
       "        (16): BatchNorm2d(512, eps=1e-05, momentum=0.1, affine=True, track_running_stats=True)\n",
       "        (17): ReLU(inplace=True)\n",
       "        (18): Conv2d(512, 512, kernel_size=(3, 3), stride=(1, 1), padding=(1, 1))\n",
       "        (19): BatchNorm2d(512, eps=1e-05, momentum=0.1, affine=True, track_running_stats=True)\n",
       "        (20): ReLU(inplace=True)\n",
       "        (21): MaxPool2d(kernel_size=2, stride=2, padding=0, dilation=1, ceil_mode=False)\n",
       "        (22): Conv2d(512, 512, kernel_size=(3, 3), stride=(1, 1), padding=(1, 1))\n",
       "        (23): BatchNorm2d(512, eps=1e-05, momentum=0.1, affine=True, track_running_stats=True)\n",
       "        (24): ReLU(inplace=True)\n",
       "        (25): Conv2d(512, 512, kernel_size=(3, 3), stride=(1, 1), padding=(1, 1))\n",
       "        (26): BatchNorm2d(512, eps=1e-05, momentum=0.1, affine=True, track_running_stats=True)\n",
       "        (27): ReLU(inplace=True)\n",
       "        (28): MaxPool2d(kernel_size=2, stride=2, padding=0, dilation=1, ceil_mode=False)\n",
       "      )\n",
       "      (avgpool): AdaptiveAvgPool2d(output_size=(7, 7))\n",
       "      (classifier): Sequential(\n",
       "        (0): Linear(in_features=25088, out_features=4096, bias=True)\n",
       "        (1): ReLU(inplace=True)\n",
       "        (2): Dropout(p=0.5, inplace=False)\n",
       "        (3): Linear(in_features=4096, out_features=4096, bias=True)\n",
       "        (4): ReLU(inplace=True)\n",
       "        (5): Dropout(p=0.5, inplace=False)\n",
       "        (fc_1_rcnn_added): Linear(in_features=4096, out_features=1000, bias=True)\n",
       "        (relu_added): ReLU(inplace=True)\n",
       "        (classifier_rcnn_added): Linear(in_features=1000, out_features=10, bias=True)\n",
       "      )\n",
       "    )\n",
       "  )\n",
       "  (loss_module): CrossEntropyLoss()\n",
       "  (accuracy): MulticlassAccuracy()\n",
       ")"
      ]
     },
     "execution_count": 13,
     "metadata": {},
     "output_type": "execute_result"
    }
   ],
   "source": [
    "model"
   ]
  },
  {
   "cell_type": "markdown",
   "id": "f371b32a-2717-4947-89cd-0665729efd68",
   "metadata": {},
   "source": [
    "# without pruning"
   ]
  },
  {
   "cell_type": "code",
   "execution_count": 8,
   "id": "52bbf959-621f-4db4-b180-58d8fade5c47",
   "metadata": {},
   "outputs": [
    {
     "name": "stderr",
     "output_type": "stream",
     "text": [
      "GPU available: True (cuda), used: True\n",
      "TPU available: False, using: 0 TPU cores\n",
      "IPU available: False, using: 0 IPUs\n",
      "HPU available: False, using: 0 HPUs\n"
     ]
    }
   ],
   "source": [
    "trainer = pl.Trainer(accelerator=\"gpu\")"
   ]
  },
  {
   "cell_type": "code",
   "execution_count": 9,
   "id": "90cb9615-3f31-4311-8f79-fcd23f71f6b2",
   "metadata": {},
   "outputs": [
    {
     "name": "stderr",
     "output_type": "stream",
     "text": [
      "LOCAL_RANK: 0 - CUDA_VISIBLE_DEVICES: [0]\n"
     ]
    },
    {
     "data": {
      "application/json": {
       "ascii": false,
       "bar_format": null,
       "colour": null,
       "elapsed": 0.015629053115844727,
       "initial": 0,
       "n": 0,
       "ncols": 119,
       "nrows": 29,
       "postfix": null,
       "prefix": "Testing",
       "rate": null,
       "total": null,
       "unit": "it",
       "unit_divisor": 1000,
       "unit_scale": false
      },
      "application/vnd.jupyter.widget-view+json": {
       "model_id": "6d9ce3d7217a490ca0860d833e839159",
       "version_major": 2,
       "version_minor": 0
      },
      "text/plain": [
       "Testing: 0it [00:00, ?it/s]"
      ]
     },
     "metadata": {},
     "output_type": "display_data"
    },
    {
     "data": {
      "text/html": [
       "<pre style=\"white-space:pre;overflow-x:auto;line-height:normal;font-family:Menlo,'DejaVu Sans Mono',consolas,'Courier New',monospace\">┏━━━━━━━━━━━━━━━━━━━━━━━━━━━┳━━━━━━━━━━━━━━━━━━━━━━━━━━━┓\n",
       "┃<span style=\"font-weight: bold\">        Test metric        </span>┃<span style=\"font-weight: bold\">       DataLoader 0        </span>┃\n",
       "┡━━━━━━━━━━━━━━━━━━━━━━━━━━━╇━━━━━━━━━━━━━━━━━━━━━━━━━━━┩\n",
       "│<span style=\"color: #008080; text-decoration-color: #008080\">    test_accuracy_epoch    </span>│<span style=\"color: #800080; text-decoration-color: #800080\">    0.8476999998092651     </span>│\n",
       "│<span style=\"color: #008080; text-decoration-color: #008080\">      test_loss_epoch      </span>│<span style=\"color: #800080; text-decoration-color: #800080\">    0.4922269880771637     </span>│\n",
       "└───────────────────────────┴───────────────────────────┘\n",
       "</pre>\n"
      ],
      "text/plain": [
       "┏━━━━━━━━━━━━━━━━━━━━━━━━━━━┳━━━━━━━━━━━━━━━━━━━━━━━━━━━┓\n",
       "┃\u001b[1m \u001b[0m\u001b[1m       Test metric       \u001b[0m\u001b[1m \u001b[0m┃\u001b[1m \u001b[0m\u001b[1m      DataLoader 0       \u001b[0m\u001b[1m \u001b[0m┃\n",
       "┡━━━━━━━━━━━━━━━━━━━━━━━━━━━╇━━━━━━━━━━━━━━━━━━━━━━━━━━━┩\n",
       "│\u001b[36m \u001b[0m\u001b[36m   test_accuracy_epoch   \u001b[0m\u001b[36m \u001b[0m│\u001b[35m \u001b[0m\u001b[35m   0.8476999998092651    \u001b[0m\u001b[35m \u001b[0m│\n",
       "│\u001b[36m \u001b[0m\u001b[36m     test_loss_epoch     \u001b[0m\u001b[36m \u001b[0m│\u001b[35m \u001b[0m\u001b[35m   0.4922269880771637    \u001b[0m\u001b[35m \u001b[0m│\n",
       "└───────────────────────────┴───────────────────────────┘\n"
      ]
     },
     "metadata": {},
     "output_type": "display_data"
    }
   ],
   "source": [
    "test_result = trainer.test(model, dataloaders=test_loader)"
   ]
  },
  {
   "cell_type": "markdown",
   "id": "88c5aa8b-fb6d-415e-b02f-30f5dae52e2b",
   "metadata": {},
   "source": [
    "# pruning at 60%"
   ]
  },
  {
   "cell_type": "code",
   "execution_count": 10,
   "id": "a57e7c2f-8771-4e25-856d-96971de1df3c",
   "metadata": {},
   "outputs": [],
   "source": [
    "from torch.nn.utils import prune"
   ]
  },
  {
   "cell_type": "code",
   "execution_count": 14,
   "id": "1ffb3b2f-8f06-42d9-9290-fe66ff115c5f",
   "metadata": {},
   "outputs": [],
   "source": [
    "import copy"
   ]
  },
  {
   "cell_type": "code",
   "execution_count": 15,
   "id": "ed675776-1f61-4d3f-8a01-14aa5ed9254a",
   "metadata": {},
   "outputs": [],
   "source": [
    "temp_copy_model = copy.deepcopy(model)"
   ]
  },
  {
   "cell_type": "code",
   "execution_count": 16,
   "id": "a7af9ef8-cdde-420e-940e-ae9dab406b0e",
   "metadata": {},
   "outputs": [],
   "source": [
    "for name, module in temp_copy_model.named_modules():\n",
    "    if isinstance(module, torch.nn.Conv2d):\n",
    "         prune.l1_unstructured(module, name='weight', amount=0.6)"
   ]
  },
  {
   "cell_type": "code",
   "execution_count": 17,
   "id": "eef4abf5-f2a1-44ab-8c19-9e44cd33c517",
   "metadata": {},
   "outputs": [
    {
     "name": "stdout",
     "output_type": "stream",
     "text": [
      "dict_keys(['model.m.features.0.weight_mask', 'model.m.features.1.running_mean', 'model.m.features.1.running_var', 'model.m.features.1.num_batches_tracked', 'model.m.features.4.weight_mask', 'model.m.features.5.running_mean', 'model.m.features.5.running_var', 'model.m.features.5.num_batches_tracked', 'model.m.features.8.weight_mask', 'model.m.features.9.running_mean', 'model.m.features.9.running_var', 'model.m.features.9.num_batches_tracked', 'model.m.features.11.weight_mask', 'model.m.features.12.running_mean', 'model.m.features.12.running_var', 'model.m.features.12.num_batches_tracked', 'model.m.features.15.weight_mask', 'model.m.features.16.running_mean', 'model.m.features.16.running_var', 'model.m.features.16.num_batches_tracked', 'model.m.features.18.weight_mask', 'model.m.features.19.running_mean', 'model.m.features.19.running_var', 'model.m.features.19.num_batches_tracked', 'model.m.features.22.weight_mask', 'model.m.features.23.running_mean', 'model.m.features.23.running_var', 'model.m.features.23.num_batches_tracked', 'model.m.features.25.weight_mask', 'model.m.features.26.running_mean', 'model.m.features.26.running_var', 'model.m.features.26.num_batches_tracked'])\n"
     ]
    }
   ],
   "source": [
    "print(dict(temp_copy_model.named_buffers()).keys())"
   ]
  },
  {
   "cell_type": "code",
   "execution_count": 19,
   "id": "2b16c0d1-108a-4eed-8887-dc51690d0b4d",
   "metadata": {},
   "outputs": [
    {
     "data": {
      "text/plain": [
       "True"
      ]
     },
     "execution_count": 19,
     "metadata": {},
     "output_type": "execute_result"
    }
   ],
   "source": [
    "prune.is_pruned(temp_copy_model)"
   ]
  },
  {
   "cell_type": "code",
   "execution_count": 21,
   "id": "787500bc-023f-4626-a1e5-c1f66d0fc10d",
   "metadata": {},
   "outputs": [
    {
     "name": "stderr",
     "output_type": "stream",
     "text": [
      "LOCAL_RANK: 0 - CUDA_VISIBLE_DEVICES: [0]\n"
     ]
    },
    {
     "data": {
      "application/json": {
       "ascii": false,
       "bar_format": null,
       "colour": null,
       "elapsed": 0.01562809944152832,
       "initial": 0,
       "n": 0,
       "ncols": 119,
       "nrows": 29,
       "postfix": null,
       "prefix": "Testing",
       "rate": null,
       "total": null,
       "unit": "it",
       "unit_divisor": 1000,
       "unit_scale": false
      },
      "application/vnd.jupyter.widget-view+json": {
       "model_id": "143487b36ae5474cbd11171adc6bc04f",
       "version_major": 2,
       "version_minor": 0
      },
      "text/plain": [
       "Testing: 0it [00:00, ?it/s]"
      ]
     },
     "metadata": {},
     "output_type": "display_data"
    },
    {
     "data": {
      "text/html": [
       "<pre style=\"white-space:pre;overflow-x:auto;line-height:normal;font-family:Menlo,'DejaVu Sans Mono',consolas,'Courier New',monospace\">┏━━━━━━━━━━━━━━━━━━━━━━━━━━━┳━━━━━━━━━━━━━━━━━━━━━━━━━━━┓\n",
       "┃<span style=\"font-weight: bold\">        Test metric        </span>┃<span style=\"font-weight: bold\">       DataLoader 0        </span>┃\n",
       "┡━━━━━━━━━━━━━━━━━━━━━━━━━━━╇━━━━━━━━━━━━━━━━━━━━━━━━━━━┩\n",
       "│<span style=\"color: #008080; text-decoration-color: #008080\">    test_accuracy_epoch    </span>│<span style=\"color: #800080; text-decoration-color: #800080\">    0.8248000144958496     </span>│\n",
       "│<span style=\"color: #008080; text-decoration-color: #008080\">      test_loss_epoch      </span>│<span style=\"color: #800080; text-decoration-color: #800080\">    0.5231876969337463     </span>│\n",
       "└───────────────────────────┴───────────────────────────┘\n",
       "</pre>\n"
      ],
      "text/plain": [
       "┏━━━━━━━━━━━━━━━━━━━━━━━━━━━┳━━━━━━━━━━━━━━━━━━━━━━━━━━━┓\n",
       "┃\u001b[1m \u001b[0m\u001b[1m       Test metric       \u001b[0m\u001b[1m \u001b[0m┃\u001b[1m \u001b[0m\u001b[1m      DataLoader 0       \u001b[0m\u001b[1m \u001b[0m┃\n",
       "┡━━━━━━━━━━━━━━━━━━━━━━━━━━━╇━━━━━━━━━━━━━━━━━━━━━━━━━━━┩\n",
       "│\u001b[36m \u001b[0m\u001b[36m   test_accuracy_epoch   \u001b[0m\u001b[36m \u001b[0m│\u001b[35m \u001b[0m\u001b[35m   0.8248000144958496    \u001b[0m\u001b[35m \u001b[0m│\n",
       "│\u001b[36m \u001b[0m\u001b[36m     test_loss_epoch     \u001b[0m\u001b[36m \u001b[0m│\u001b[35m \u001b[0m\u001b[35m   0.5231876969337463    \u001b[0m\u001b[35m \u001b[0m│\n",
       "└───────────────────────────┴───────────────────────────┘\n"
      ]
     },
     "metadata": {},
     "output_type": "display_data"
    }
   ],
   "source": [
    "test_result = trainer.test(temp_copy_model, dataloaders=test_loader)"
   ]
  },
  {
   "cell_type": "code",
   "execution_count": 22,
   "id": "0d9e9f38-8624-4001-bc90-cd9e532b1053",
   "metadata": {},
   "outputs": [],
   "source": [
    "trainer.save_checkpoint(\"model_v1_vgg/pruned_60%.ckpt\")"
   ]
  },
  {
   "cell_type": "markdown",
   "id": "2897efa0-889b-42b0-9b13-5ad11e0741e0",
   "metadata": {},
   "source": [
    "# pruning at 50%"
   ]
  },
  {
   "cell_type": "code",
   "execution_count": 23,
   "id": "f654f145-abd0-403c-a518-a1da88d7d738",
   "metadata": {},
   "outputs": [
    {
     "name": "stdout",
     "output_type": "stream",
     "text": [
      "dict_keys(['model.m.features.0.weight_mask', 'model.m.features.1.running_mean', 'model.m.features.1.running_var', 'model.m.features.1.num_batches_tracked', 'model.m.features.4.weight_mask', 'model.m.features.5.running_mean', 'model.m.features.5.running_var', 'model.m.features.5.num_batches_tracked', 'model.m.features.8.weight_mask', 'model.m.features.9.running_mean', 'model.m.features.9.running_var', 'model.m.features.9.num_batches_tracked', 'model.m.features.11.weight_mask', 'model.m.features.12.running_mean', 'model.m.features.12.running_var', 'model.m.features.12.num_batches_tracked', 'model.m.features.15.weight_mask', 'model.m.features.16.running_mean', 'model.m.features.16.running_var', 'model.m.features.16.num_batches_tracked', 'model.m.features.18.weight_mask', 'model.m.features.19.running_mean', 'model.m.features.19.running_var', 'model.m.features.19.num_batches_tracked', 'model.m.features.22.weight_mask', 'model.m.features.23.running_mean', 'model.m.features.23.running_var', 'model.m.features.23.num_batches_tracked', 'model.m.features.25.weight_mask', 'model.m.features.26.running_mean', 'model.m.features.26.running_var', 'model.m.features.26.num_batches_tracked'])\n"
     ]
    }
   ],
   "source": [
    "del temp_copy_model\n",
    "\n",
    "temp_copy_model = copy.deepcopy(model)\n",
    "\n",
    "for name, module in temp_copy_model.named_modules():\n",
    "    if isinstance(module, torch.nn.Conv2d):\n",
    "         prune.l1_unstructured(module, name='weight', amount=0.5)\n",
    "\n",
    "print(dict(temp_copy_model.named_buffers()).keys())"
   ]
  },
  {
   "cell_type": "code",
   "execution_count": 24,
   "id": "0cdcb01a-9eb0-46fd-8d66-53f0bd1e744f",
   "metadata": {},
   "outputs": [
    {
     "data": {
      "text/plain": [
       "True"
      ]
     },
     "execution_count": 24,
     "metadata": {},
     "output_type": "execute_result"
    }
   ],
   "source": [
    "prune.is_pruned(temp_copy_model)"
   ]
  },
  {
   "cell_type": "code",
   "execution_count": 25,
   "id": "7b9c28c0-b706-411d-9a8f-035022d5c8e3",
   "metadata": {},
   "outputs": [
    {
     "name": "stderr",
     "output_type": "stream",
     "text": [
      "LOCAL_RANK: 0 - CUDA_VISIBLE_DEVICES: [0]\n"
     ]
    },
    {
     "data": {
      "application/json": {
       "ascii": false,
       "bar_format": null,
       "colour": null,
       "elapsed": 0.029764890670776367,
       "initial": 0,
       "n": 0,
       "ncols": 119,
       "nrows": 29,
       "postfix": null,
       "prefix": "Testing",
       "rate": null,
       "total": null,
       "unit": "it",
       "unit_divisor": 1000,
       "unit_scale": false
      },
      "application/vnd.jupyter.widget-view+json": {
       "model_id": "8c002ed63f1540e092eecaad9d7ee435",
       "version_major": 2,
       "version_minor": 0
      },
      "text/plain": [
       "Testing: 0it [00:00, ?it/s]"
      ]
     },
     "metadata": {},
     "output_type": "display_data"
    },
    {
     "data": {
      "text/html": [
       "<pre style=\"white-space:pre;overflow-x:auto;line-height:normal;font-family:Menlo,'DejaVu Sans Mono',consolas,'Courier New',monospace\">┏━━━━━━━━━━━━━━━━━━━━━━━━━━━┳━━━━━━━━━━━━━━━━━━━━━━━━━━━┓\n",
       "┃<span style=\"font-weight: bold\">        Test metric        </span>┃<span style=\"font-weight: bold\">       DataLoader 0        </span>┃\n",
       "┡━━━━━━━━━━━━━━━━━━━━━━━━━━━╇━━━━━━━━━━━━━━━━━━━━━━━━━━━┩\n",
       "│<span style=\"color: #008080; text-decoration-color: #008080\">    test_accuracy_epoch    </span>│<span style=\"color: #800080; text-decoration-color: #800080\">    0.8424999713897705     </span>│\n",
       "│<span style=\"color: #008080; text-decoration-color: #008080\">      test_loss_epoch      </span>│<span style=\"color: #800080; text-decoration-color: #800080\">    0.48787757754325867    </span>│\n",
       "└───────────────────────────┴───────────────────────────┘\n",
       "</pre>\n"
      ],
      "text/plain": [
       "┏━━━━━━━━━━━━━━━━━━━━━━━━━━━┳━━━━━━━━━━━━━━━━━━━━━━━━━━━┓\n",
       "┃\u001b[1m \u001b[0m\u001b[1m       Test metric       \u001b[0m\u001b[1m \u001b[0m┃\u001b[1m \u001b[0m\u001b[1m      DataLoader 0       \u001b[0m\u001b[1m \u001b[0m┃\n",
       "┡━━━━━━━━━━━━━━━━━━━━━━━━━━━╇━━━━━━━━━━━━━━━━━━━━━━━━━━━┩\n",
       "│\u001b[36m \u001b[0m\u001b[36m   test_accuracy_epoch   \u001b[0m\u001b[36m \u001b[0m│\u001b[35m \u001b[0m\u001b[35m   0.8424999713897705    \u001b[0m\u001b[35m \u001b[0m│\n",
       "│\u001b[36m \u001b[0m\u001b[36m     test_loss_epoch     \u001b[0m\u001b[36m \u001b[0m│\u001b[35m \u001b[0m\u001b[35m   0.48787757754325867   \u001b[0m\u001b[35m \u001b[0m│\n",
       "└───────────────────────────┴───────────────────────────┘\n"
      ]
     },
     "metadata": {},
     "output_type": "display_data"
    }
   ],
   "source": [
    "test_result = trainer.test(temp_copy_model, dataloaders=test_loader)"
   ]
  },
  {
   "cell_type": "code",
   "execution_count": 26,
   "id": "a7d38f77-6631-4f91-96e7-c7df0512a5a7",
   "metadata": {},
   "outputs": [],
   "source": [
    "trainer.save_checkpoint(\"model_v1_vgg/pruned_50%.ckpt\")"
   ]
  },
  {
   "cell_type": "markdown",
   "id": "466b2993-d804-43da-98b8-e48662b2074a",
   "metadata": {},
   "source": [
    "# pruning at 70%"
   ]
  },
  {
   "cell_type": "code",
   "execution_count": 27,
   "id": "88323b32-93fb-407a-b11e-4b5ca8cd3618",
   "metadata": {},
   "outputs": [
    {
     "name": "stdout",
     "output_type": "stream",
     "text": [
      "dict_keys(['model.m.features.0.weight_mask', 'model.m.features.1.running_mean', 'model.m.features.1.running_var', 'model.m.features.1.num_batches_tracked', 'model.m.features.4.weight_mask', 'model.m.features.5.running_mean', 'model.m.features.5.running_var', 'model.m.features.5.num_batches_tracked', 'model.m.features.8.weight_mask', 'model.m.features.9.running_mean', 'model.m.features.9.running_var', 'model.m.features.9.num_batches_tracked', 'model.m.features.11.weight_mask', 'model.m.features.12.running_mean', 'model.m.features.12.running_var', 'model.m.features.12.num_batches_tracked', 'model.m.features.15.weight_mask', 'model.m.features.16.running_mean', 'model.m.features.16.running_var', 'model.m.features.16.num_batches_tracked', 'model.m.features.18.weight_mask', 'model.m.features.19.running_mean', 'model.m.features.19.running_var', 'model.m.features.19.num_batches_tracked', 'model.m.features.22.weight_mask', 'model.m.features.23.running_mean', 'model.m.features.23.running_var', 'model.m.features.23.num_batches_tracked', 'model.m.features.25.weight_mask', 'model.m.features.26.running_mean', 'model.m.features.26.running_var', 'model.m.features.26.num_batches_tracked'])\n"
     ]
    }
   ],
   "source": [
    "del temp_copy_model\n",
    "\n",
    "temp_copy_model = copy.deepcopy(model)\n",
    "\n",
    "for name, module in temp_copy_model.named_modules():\n",
    "    if isinstance(module, torch.nn.Conv2d):\n",
    "         prune.l1_unstructured(module, name='weight', amount=0.7)\n",
    "\n",
    "print(dict(temp_copy_model.named_buffers()).keys())"
   ]
  },
  {
   "cell_type": "code",
   "execution_count": 28,
   "id": "1cf7037e-5785-47ae-aeca-a4579d5ea9ae",
   "metadata": {},
   "outputs": [
    {
     "data": {
      "text/plain": [
       "True"
      ]
     },
     "execution_count": 28,
     "metadata": {},
     "output_type": "execute_result"
    }
   ],
   "source": [
    "prune.is_pruned(temp_copy_model)"
   ]
  },
  {
   "cell_type": "code",
   "execution_count": 29,
   "id": "868b1364-a139-4bbf-9dbd-a8ab4b651a82",
   "metadata": {},
   "outputs": [
    {
     "name": "stderr",
     "output_type": "stream",
     "text": [
      "LOCAL_RANK: 0 - CUDA_VISIBLE_DEVICES: [0]\n"
     ]
    },
    {
     "data": {
      "application/json": {
       "ascii": false,
       "bar_format": null,
       "colour": null,
       "elapsed": 0.01563858985900879,
       "initial": 0,
       "n": 0,
       "ncols": 119,
       "nrows": 29,
       "postfix": null,
       "prefix": "Testing",
       "rate": null,
       "total": null,
       "unit": "it",
       "unit_divisor": 1000,
       "unit_scale": false
      },
      "application/vnd.jupyter.widget-view+json": {
       "model_id": "3f96bdc225c240fab0389f7b75b60570",
       "version_major": 2,
       "version_minor": 0
      },
      "text/plain": [
       "Testing: 0it [00:00, ?it/s]"
      ]
     },
     "metadata": {},
     "output_type": "display_data"
    },
    {
     "data": {
      "text/html": [
       "<pre style=\"white-space:pre;overflow-x:auto;line-height:normal;font-family:Menlo,'DejaVu Sans Mono',consolas,'Courier New',monospace\">┏━━━━━━━━━━━━━━━━━━━━━━━━━━━┳━━━━━━━━━━━━━━━━━━━━━━━━━━━┓\n",
       "┃<span style=\"font-weight: bold\">        Test metric        </span>┃<span style=\"font-weight: bold\">       DataLoader 0        </span>┃\n",
       "┡━━━━━━━━━━━━━━━━━━━━━━━━━━━╇━━━━━━━━━━━━━━━━━━━━━━━━━━━┩\n",
       "│<span style=\"color: #008080; text-decoration-color: #008080\">    test_accuracy_epoch    </span>│<span style=\"color: #800080; text-decoration-color: #800080\">    0.7943000197410583     </span>│\n",
       "│<span style=\"color: #008080; text-decoration-color: #008080\">      test_loss_epoch      </span>│<span style=\"color: #800080; text-decoration-color: #800080\">    0.6361125707626343     </span>│\n",
       "└───────────────────────────┴───────────────────────────┘\n",
       "</pre>\n"
      ],
      "text/plain": [
       "┏━━━━━━━━━━━━━━━━━━━━━━━━━━━┳━━━━━━━━━━━━━━━━━━━━━━━━━━━┓\n",
       "┃\u001b[1m \u001b[0m\u001b[1m       Test metric       \u001b[0m\u001b[1m \u001b[0m┃\u001b[1m \u001b[0m\u001b[1m      DataLoader 0       \u001b[0m\u001b[1m \u001b[0m┃\n",
       "┡━━━━━━━━━━━━━━━━━━━━━━━━━━━╇━━━━━━━━━━━━━━━━━━━━━━━━━━━┩\n",
       "│\u001b[36m \u001b[0m\u001b[36m   test_accuracy_epoch   \u001b[0m\u001b[36m \u001b[0m│\u001b[35m \u001b[0m\u001b[35m   0.7943000197410583    \u001b[0m\u001b[35m \u001b[0m│\n",
       "│\u001b[36m \u001b[0m\u001b[36m     test_loss_epoch     \u001b[0m\u001b[36m \u001b[0m│\u001b[35m \u001b[0m\u001b[35m   0.6361125707626343    \u001b[0m\u001b[35m \u001b[0m│\n",
       "└───────────────────────────┴───────────────────────────┘\n"
      ]
     },
     "metadata": {},
     "output_type": "display_data"
    }
   ],
   "source": [
    "test_result = trainer.test(temp_copy_model, dataloaders=test_loader)"
   ]
  },
  {
   "cell_type": "code",
   "execution_count": 30,
   "id": "898d1aea-a327-4c62-a98c-a838d1ad7b95",
   "metadata": {},
   "outputs": [],
   "source": [
    "trainer.save_checkpoint(\"model_v1_vgg/pruned_70%.ckpt\")"
   ]
  },
  {
   "cell_type": "markdown",
   "id": "99de15c8-95b3-44dc-b0b0-4a12fc89cc85",
   "metadata": {},
   "source": [
    "# pruning at 90%"
   ]
  },
  {
   "cell_type": "code",
   "execution_count": 32,
   "id": "2543630b-7c25-490c-9bb8-0cba90f02be8",
   "metadata": {},
   "outputs": [
    {
     "name": "stdout",
     "output_type": "stream",
     "text": [
      "dict_keys(['model.m.features.0.weight_mask', 'model.m.features.1.running_mean', 'model.m.features.1.running_var', 'model.m.features.1.num_batches_tracked', 'model.m.features.4.weight_mask', 'model.m.features.5.running_mean', 'model.m.features.5.running_var', 'model.m.features.5.num_batches_tracked', 'model.m.features.8.weight_mask', 'model.m.features.9.running_mean', 'model.m.features.9.running_var', 'model.m.features.9.num_batches_tracked', 'model.m.features.11.weight_mask', 'model.m.features.12.running_mean', 'model.m.features.12.running_var', 'model.m.features.12.num_batches_tracked', 'model.m.features.15.weight_mask', 'model.m.features.16.running_mean', 'model.m.features.16.running_var', 'model.m.features.16.num_batches_tracked', 'model.m.features.18.weight_mask', 'model.m.features.19.running_mean', 'model.m.features.19.running_var', 'model.m.features.19.num_batches_tracked', 'model.m.features.22.weight_mask', 'model.m.features.23.running_mean', 'model.m.features.23.running_var', 'model.m.features.23.num_batches_tracked', 'model.m.features.25.weight_mask', 'model.m.features.26.running_mean', 'model.m.features.26.running_var', 'model.m.features.26.num_batches_tracked'])\n"
     ]
    }
   ],
   "source": [
    "del temp_copy_model\n",
    "\n",
    "temp_copy_model = copy.deepcopy(model)\n",
    "\n",
    "for name, module in temp_copy_model.named_modules():\n",
    "    if isinstance(module, torch.nn.Conv2d):\n",
    "         prune.l1_unstructured(module, name='weight', amount=0.9)\n",
    "\n",
    "print(dict(temp_copy_model.named_buffers()).keys())"
   ]
  },
  {
   "cell_type": "code",
   "execution_count": 33,
   "id": "074ec544-14b7-49eb-9f69-e80fb62cea11",
   "metadata": {},
   "outputs": [
    {
     "data": {
      "text/plain": [
       "True"
      ]
     },
     "execution_count": 33,
     "metadata": {},
     "output_type": "execute_result"
    }
   ],
   "source": [
    "prune.is_pruned(temp_copy_model)"
   ]
  },
  {
   "cell_type": "code",
   "execution_count": 34,
   "id": "243e088c-ffda-46d0-9022-be5fb14f15a1",
   "metadata": {},
   "outputs": [
    {
     "name": "stderr",
     "output_type": "stream",
     "text": [
      "LOCAL_RANK: 0 - CUDA_VISIBLE_DEVICES: [0]\n"
     ]
    },
    {
     "data": {
      "application/json": {
       "ascii": false,
       "bar_format": null,
       "colour": null,
       "elapsed": 0.027618885040283203,
       "initial": 0,
       "n": 0,
       "ncols": 119,
       "nrows": 29,
       "postfix": null,
       "prefix": "Testing",
       "rate": null,
       "total": null,
       "unit": "it",
       "unit_divisor": 1000,
       "unit_scale": false
      },
      "application/vnd.jupyter.widget-view+json": {
       "model_id": "2617f001c2514069b964693d68965daf",
       "version_major": 2,
       "version_minor": 0
      },
      "text/plain": [
       "Testing: 0it [00:00, ?it/s]"
      ]
     },
     "metadata": {},
     "output_type": "display_data"
    },
    {
     "data": {
      "text/html": [
       "<pre style=\"white-space:pre;overflow-x:auto;line-height:normal;font-family:Menlo,'DejaVu Sans Mono',consolas,'Courier New',monospace\">┏━━━━━━━━━━━━━━━━━━━━━━━━━━━┳━━━━━━━━━━━━━━━━━━━━━━━━━━━┓\n",
       "┃<span style=\"font-weight: bold\">        Test metric        </span>┃<span style=\"font-weight: bold\">       DataLoader 0        </span>┃\n",
       "┡━━━━━━━━━━━━━━━━━━━━━━━━━━━╇━━━━━━━━━━━━━━━━━━━━━━━━━━━┩\n",
       "│<span style=\"color: #008080; text-decoration-color: #008080\">    test_accuracy_epoch    </span>│<span style=\"color: #800080; text-decoration-color: #800080\">    0.12210000306367874    </span>│\n",
       "│<span style=\"color: #008080; text-decoration-color: #008080\">      test_loss_epoch      </span>│<span style=\"color: #800080; text-decoration-color: #800080\">     3.629362106323242     </span>│\n",
       "└───────────────────────────┴───────────────────────────┘\n",
       "</pre>\n"
      ],
      "text/plain": [
       "┏━━━━━━━━━━━━━━━━━━━━━━━━━━━┳━━━━━━━━━━━━━━━━━━━━━━━━━━━┓\n",
       "┃\u001b[1m \u001b[0m\u001b[1m       Test metric       \u001b[0m\u001b[1m \u001b[0m┃\u001b[1m \u001b[0m\u001b[1m      DataLoader 0       \u001b[0m\u001b[1m \u001b[0m┃\n",
       "┡━━━━━━━━━━━━━━━━━━━━━━━━━━━╇━━━━━━━━━━━━━━━━━━━━━━━━━━━┩\n",
       "│\u001b[36m \u001b[0m\u001b[36m   test_accuracy_epoch   \u001b[0m\u001b[36m \u001b[0m│\u001b[35m \u001b[0m\u001b[35m   0.12210000306367874   \u001b[0m\u001b[35m \u001b[0m│\n",
       "│\u001b[36m \u001b[0m\u001b[36m     test_loss_epoch     \u001b[0m\u001b[36m \u001b[0m│\u001b[35m \u001b[0m\u001b[35m    3.629362106323242    \u001b[0m\u001b[35m \u001b[0m│\n",
       "└───────────────────────────┴───────────────────────────┘\n"
      ]
     },
     "metadata": {},
     "output_type": "display_data"
    }
   ],
   "source": [
    "test_result = trainer.test(temp_copy_model, dataloaders=test_loader)"
   ]
  },
  {
   "cell_type": "code",
   "execution_count": 35,
   "id": "ee0a61d9-23b2-421a-a227-c9ce66fefdef",
   "metadata": {},
   "outputs": [],
   "source": [
    "trainer.save_checkpoint(\"model_v1_vgg/pruned_90%.ckpt\")"
   ]
  },
  {
   "cell_type": "markdown",
   "id": "9add56ae-d019-4b85-9234-06379174419f",
   "metadata": {},
   "source": [
    "# Report\n",
    "1. base finetuned model have accuracy of 84% and model size is around 1.5 gb\n",
    "2. <ins>50% pruning has given 84% accuracy with model size of 542 mb </ins> (Is the best model)\n",
    "3. 60% pruning has given 82% accuracy with model size of 542 mb\n",
    "4. 70% pruning has given 79% accuracy with model size of 542 mb\n",
    "5. 90% pruning has given 12% accuracy with model size of 542 mb"
   ]
  },
  {
   "cell_type": "code",
   "execution_count": null,
   "id": "c25a03a4-9a15-400c-8087-b0391cf9cf83",
   "metadata": {},
   "outputs": [],
   "source": []
  }
 ],
 "metadata": {
  "kernelspec": {
   "display_name": "Python 3 (ipykernel)",
   "language": "python",
   "name": "python3"
  },
  "language_info": {
   "codemirror_mode": {
    "name": "ipython",
    "version": 3
   },
   "file_extension": ".py",
   "mimetype": "text/x-python",
   "name": "python",
   "nbconvert_exporter": "python",
   "pygments_lexer": "ipython3",
   "version": "3.9.7"
  }
 },
 "nbformat": 4,
 "nbformat_minor": 5
}
